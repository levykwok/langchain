{
 "cells": [
  {
   "cell_type": "markdown",
   "id": "cd835d40",
   "metadata": {},
   "source": [
    "# Multi-modal outputs: Image & Text"
   ]
  },
  {
   "cell_type": "markdown",
   "id": "fa88e03a",
   "metadata": {},
   "source": [
    "This notebook shows how non-text producing tools can be used to create multi-modal agents.\n",
    "\n",
    "This example is limited to text and image outputs and uses UUIDs to transfer content across tools and agents. \n",
    "\n",
    "This example uses Steamship to generate and store generated images. Generated are auth protected by default. \n",
    "\n",
    "You can get your Steamship api key here: https://steamship.com/account/api"
   ]
  },
  {
   "cell_type": "code",
   "id": "0653da01",
   "metadata": {
    "ExecuteTime": {
     "end_time": "2025-03-19T09:25:56.792893Z",
     "start_time": "2025-03-19T09:25:56.788402Z"
    }
   },
   "source": [
    "import re\n",
    "\n",
    "from IPython.display import Image, display\n",
    "from steamship import Block, Steamship"
   ],
   "outputs": [],
   "execution_count": 10
  },
  {
   "cell_type": "code",
   "id": "f6933033",
   "metadata": {
    "ExecuteTime": {
     "end_time": "2025-03-19T09:26:38.342159Z",
     "start_time": "2025-03-19T09:26:38.157550Z"
    }
   },
   "source": [
    "from langchain.agents import AgentType, initialize_agent\n",
    "from langchain.tools import SteamshipImageGenerationTool\n",
    "from langchain_openai import OpenAI"
   ],
   "outputs": [
    {
     "ename": "ImportError",
     "evalue": "cannot import name 'PydanticDeprecationWarning' from 'pydantic' (D:\\ProgramData\\Anaconda\\envs\\LLM\\Lib\\site-packages\\pydantic\\__init__.cp311-win_amd64.pyd)",
     "output_type": "error",
     "traceback": [
      "\u001B[31m---------------------------------------------------------------------------\u001B[39m",
      "\u001B[31mImportError\u001B[39m                               Traceback (most recent call last)",
      "\u001B[36mCell\u001B[39m\u001B[36m \u001B[39m\u001B[32mIn[13]\u001B[39m\u001B[32m, line 1\u001B[39m\n\u001B[32m----> \u001B[39m\u001B[32m1\u001B[39m \u001B[38;5;28;01mfrom\u001B[39;00m\u001B[38;5;250m \u001B[39m\u001B[34;01mlangchain\u001B[39;00m\u001B[34;01m.\u001B[39;00m\u001B[34;01magents\u001B[39;00m\u001B[38;5;250m \u001B[39m\u001B[38;5;28;01mimport\u001B[39;00m AgentType, initialize_agent\n\u001B[32m      2\u001B[39m \u001B[38;5;28;01mfrom\u001B[39;00m\u001B[38;5;250m \u001B[39m\u001B[34;01mlangchain\u001B[39;00m\u001B[34;01m.\u001B[39;00m\u001B[34;01mtools\u001B[39;00m\u001B[38;5;250m \u001B[39m\u001B[38;5;28;01mimport\u001B[39;00m SteamshipImageGenerationTool\n\u001B[32m      3\u001B[39m \u001B[38;5;28;01mfrom\u001B[39;00m\u001B[38;5;250m \u001B[39m\u001B[34;01mlangchain_openai\u001B[39;00m\u001B[38;5;250m \u001B[39m\u001B[38;5;28;01mimport\u001B[39;00m OpenAI\n",
      "\u001B[36mFile \u001B[39m\u001B[32mD:\\ProgramData\\Anaconda\\envs\\LLM\\Lib\\site-packages\\langchain\\agents\\__init__.py:36\u001B[39m\n\u001B[32m     33\u001B[39m \u001B[38;5;28;01mfrom\u001B[39;00m\u001B[38;5;250m \u001B[39m\u001B[34;01mtyping\u001B[39;00m\u001B[38;5;250m \u001B[39m\u001B[38;5;28;01mimport\u001B[39;00m TYPE_CHECKING, Any\n\u001B[32m     35\u001B[39m \u001B[38;5;28;01mfrom\u001B[39;00m\u001B[38;5;250m \u001B[39m\u001B[34;01mlangchain_core\u001B[39;00m\u001B[34;01m.\u001B[39;00m\u001B[34;01m_api\u001B[39;00m\u001B[34;01m.\u001B[39;00m\u001B[34;01mpath\u001B[39;00m\u001B[38;5;250m \u001B[39m\u001B[38;5;28;01mimport\u001B[39;00m as_import_path\n\u001B[32m---> \u001B[39m\u001B[32m36\u001B[39m \u001B[38;5;28;01mfrom\u001B[39;00m\u001B[38;5;250m \u001B[39m\u001B[34;01mlangchain_core\u001B[39;00m\u001B[34;01m.\u001B[39;00m\u001B[34;01mtools\u001B[39;00m\u001B[38;5;250m \u001B[39m\u001B[38;5;28;01mimport\u001B[39;00m Tool\n\u001B[32m     37\u001B[39m \u001B[38;5;28;01mfrom\u001B[39;00m\u001B[38;5;250m \u001B[39m\u001B[34;01mlangchain_core\u001B[39;00m\u001B[34;01m.\u001B[39;00m\u001B[34;01mtools\u001B[39;00m\u001B[34;01m.\u001B[39;00m\u001B[34;01mconvert\u001B[39;00m\u001B[38;5;250m \u001B[39m\u001B[38;5;28;01mimport\u001B[39;00m tool\n\u001B[32m     39\u001B[39m \u001B[38;5;28;01mfrom\u001B[39;00m\u001B[38;5;250m \u001B[39m\u001B[34;01mlangchain\u001B[39;00m\u001B[34;01m.\u001B[39;00m\u001B[34;01m_api\u001B[39;00m\u001B[38;5;250m \u001B[39m\u001B[38;5;28;01mimport\u001B[39;00m create_importer\n",
      "\u001B[36mFile \u001B[39m\u001B[32mD:\\ProgramData\\Anaconda\\envs\\LLM\\Lib\\site-packages\\langchain_core\\tools\\__init__.py:22\u001B[39m\n\u001B[32m      1\u001B[39m \u001B[33;03m\"\"\"**Tools** are classes that an Agent uses to interact with the world.\u001B[39;00m\n\u001B[32m      2\u001B[39m \n\u001B[32m      3\u001B[39m \u001B[33;03mEach tool has a **description**. Agent uses the description to choose the right\u001B[39;00m\n\u001B[32m   (...)\u001B[39m\u001B[32m     17\u001B[39m \u001B[33;03m    CallbackManagerForToolRun, AsyncCallbackManagerForToolRun\u001B[39;00m\n\u001B[32m     18\u001B[39m \u001B[33;03m\"\"\"\u001B[39;00m  \u001B[38;5;66;03m# noqa: E501\u001B[39;00m\n\u001B[32m     20\u001B[39m \u001B[38;5;28;01mfrom\u001B[39;00m\u001B[38;5;250m \u001B[39m\u001B[34;01m__future__\u001B[39;00m\u001B[38;5;250m \u001B[39m\u001B[38;5;28;01mimport\u001B[39;00m annotations\n\u001B[32m---> \u001B[39m\u001B[32m22\u001B[39m \u001B[38;5;28;01mfrom\u001B[39;00m\u001B[38;5;250m \u001B[39m\u001B[34;01mlangchain_core\u001B[39;00m\u001B[34;01m.\u001B[39;00m\u001B[34;01mtools\u001B[39;00m\u001B[34;01m.\u001B[39;00m\u001B[34;01mbase\u001B[39;00m\u001B[38;5;250m \u001B[39m\u001B[38;5;28;01mimport\u001B[39;00m (\n\u001B[32m     23\u001B[39m     FILTERED_ARGS \u001B[38;5;28;01mas\u001B[39;00m FILTERED_ARGS,\n\u001B[32m     24\u001B[39m )\n\u001B[32m     25\u001B[39m \u001B[38;5;28;01mfrom\u001B[39;00m\u001B[38;5;250m \u001B[39m\u001B[34;01mlangchain_core\u001B[39;00m\u001B[34;01m.\u001B[39;00m\u001B[34;01mtools\u001B[39;00m\u001B[34;01m.\u001B[39;00m\u001B[34;01mbase\u001B[39;00m\u001B[38;5;250m \u001B[39m\u001B[38;5;28;01mimport\u001B[39;00m (\n\u001B[32m     26\u001B[39m     ArgsSchema \u001B[38;5;28;01mas\u001B[39;00m ArgsSchema,\n\u001B[32m     27\u001B[39m )\n\u001B[32m     28\u001B[39m \u001B[38;5;28;01mfrom\u001B[39;00m\u001B[38;5;250m \u001B[39m\u001B[34;01mlangchain_core\u001B[39;00m\u001B[34;01m.\u001B[39;00m\u001B[34;01mtools\u001B[39;00m\u001B[34;01m.\u001B[39;00m\u001B[34;01mbase\u001B[39;00m\u001B[38;5;250m \u001B[39m\u001B[38;5;28;01mimport\u001B[39;00m (\n\u001B[32m     29\u001B[39m     BaseTool \u001B[38;5;28;01mas\u001B[39;00m BaseTool,\n\u001B[32m     30\u001B[39m )\n",
      "\u001B[36mFile \u001B[39m\u001B[32mD:\\ProgramData\\Anaconda\\envs\\LLM\\Lib\\site-packages\\langchain_core\\tools\\base.py:26\u001B[39m\n\u001B[32m     10\u001B[39m \u001B[38;5;28;01mfrom\u001B[39;00m\u001B[38;5;250m \u001B[39m\u001B[34;01minspect\u001B[39;00m\u001B[38;5;250m \u001B[39m\u001B[38;5;28;01mimport\u001B[39;00m signature\n\u001B[32m     11\u001B[39m \u001B[38;5;28;01mfrom\u001B[39;00m\u001B[38;5;250m \u001B[39m\u001B[34;01mtyping\u001B[39;00m\u001B[38;5;250m \u001B[39m\u001B[38;5;28;01mimport\u001B[39;00m (\n\u001B[32m     12\u001B[39m     TYPE_CHECKING,\n\u001B[32m     13\u001B[39m     Annotated,\n\u001B[32m   (...)\u001B[39m\u001B[32m     23\u001B[39m     get_type_hints,\n\u001B[32m     24\u001B[39m )\n\u001B[32m---> \u001B[39m\u001B[32m26\u001B[39m \u001B[38;5;28;01mfrom\u001B[39;00m\u001B[38;5;250m \u001B[39m\u001B[34;01mpydantic\u001B[39;00m\u001B[38;5;250m \u001B[39m\u001B[38;5;28;01mimport\u001B[39;00m (\n\u001B[32m     27\u001B[39m     BaseModel,\n\u001B[32m     28\u001B[39m     ConfigDict,\n\u001B[32m     29\u001B[39m     Field,\n\u001B[32m     30\u001B[39m     PydanticDeprecationWarning,\n\u001B[32m     31\u001B[39m     SkipValidation,\n\u001B[32m     32\u001B[39m     ValidationError,\n\u001B[32m     33\u001B[39m     model_validator,\n\u001B[32m     34\u001B[39m     validate_arguments,\n\u001B[32m     35\u001B[39m )\n\u001B[32m     36\u001B[39m \u001B[38;5;28;01mfrom\u001B[39;00m\u001B[38;5;250m \u001B[39m\u001B[34;01mpydantic\u001B[39;00m\u001B[34;01m.\u001B[39;00m\u001B[34;01mv1\u001B[39;00m\u001B[38;5;250m \u001B[39m\u001B[38;5;28;01mimport\u001B[39;00m BaseModel \u001B[38;5;28;01mas\u001B[39;00m BaseModelV1\n\u001B[32m     37\u001B[39m \u001B[38;5;28;01mfrom\u001B[39;00m\u001B[38;5;250m \u001B[39m\u001B[34;01mpydantic\u001B[39;00m\u001B[34;01m.\u001B[39;00m\u001B[34;01mv1\u001B[39;00m\u001B[38;5;250m \u001B[39m\u001B[38;5;28;01mimport\u001B[39;00m ValidationError \u001B[38;5;28;01mas\u001B[39;00m ValidationErrorV1\n",
      "\u001B[31mImportError\u001B[39m: cannot import name 'PydanticDeprecationWarning' from 'pydantic' (D:\\ProgramData\\Anaconda\\envs\\LLM\\Lib\\site-packages\\pydantic\\__init__.cp311-win_amd64.pyd)"
     ]
    }
   ],
   "execution_count": 13
  },
  {
   "cell_type": "code",
   "id": "71e51e53",
   "metadata": {
    "ExecuteTime": {
     "end_time": "2025-03-19T09:26:49.010733Z",
     "start_time": "2025-03-19T09:26:48.985325Z"
    }
   },
   "source": [
    "llm = OpenAI(temperature=0)"
   ],
   "outputs": [
    {
     "ename": "NameError",
     "evalue": "name 'OpenAI' is not defined",
     "output_type": "error",
     "traceback": [
      "\u001B[31m---------------------------------------------------------------------------\u001B[39m",
      "\u001B[31mNameError\u001B[39m                                 Traceback (most recent call last)",
      "\u001B[36mCell\u001B[39m\u001B[36m \u001B[39m\u001B[32mIn[15]\u001B[39m\u001B[32m, line 1\u001B[39m\n\u001B[32m----> \u001B[39m\u001B[32m1\u001B[39m llm = \u001B[43mOpenAI\u001B[49m(temperature=\u001B[32m0\u001B[39m)\n",
      "\u001B[31mNameError\u001B[39m: name 'OpenAI' is not defined"
     ]
    }
   ],
   "execution_count": 15
  },
  {
   "cell_type": "markdown",
   "id": "a9fc769d",
   "metadata": {},
   "source": [
    "## Dall-E "
   ]
  },
  {
   "cell_type": "code",
   "id": "cd177dfe",
   "metadata": {
    "ExecuteTime": {
     "end_time": "2025-03-19T09:26:04.053770Z",
     "start_time": "2025-03-19T09:26:04.026491Z"
    }
   },
   "source": [
    "tools = [SteamshipImageGenerationTool(model_name=\"dall-e\")]"
   ],
   "outputs": [
    {
     "ename": "NameError",
     "evalue": "name 'SteamshipImageGenerationTool' is not defined",
     "output_type": "error",
     "traceback": [
      "\u001B[31m---------------------------------------------------------------------------\u001B[39m",
      "\u001B[31mNameError\u001B[39m                                 Traceback (most recent call last)",
      "\u001B[36mCell\u001B[39m\u001B[36m \u001B[39m\u001B[32mIn[12]\u001B[39m\u001B[32m, line 1\u001B[39m\n\u001B[32m----> \u001B[39m\u001B[32m1\u001B[39m tools = [\u001B[43mSteamshipImageGenerationTool\u001B[49m(model_name=\u001B[33m\"\u001B[39m\u001B[33mdall-e\u001B[39m\u001B[33m\"\u001B[39m)]\n",
      "\u001B[31mNameError\u001B[39m: name 'SteamshipImageGenerationTool' is not defined"
     ]
    }
   ],
   "execution_count": 12
  },
  {
   "cell_type": "code",
   "execution_count": null,
   "id": "c71b1e46",
   "metadata": {},
   "outputs": [],
   "source": [
    "mrkl = initialize_agent(\n",
    "    tools, llm, agent=AgentType.ZERO_SHOT_REACT_DESCRIPTION, verbose=True\n",
    ")"
   ]
  },
  {
   "cell_type": "code",
   "execution_count": null,
   "id": "603aeb9a",
   "metadata": {},
   "outputs": [],
   "source": [
    "output = mrkl.run(\"How would you visualize a parot playing soccer?\")"
   ]
  },
  {
   "cell_type": "code",
   "execution_count": null,
   "id": "25eb4efe",
   "metadata": {},
   "outputs": [],
   "source": [
    "def show_output(output):\n",
    "    \"\"\"Display the multi-modal output from the agent.\"\"\"\n",
    "    UUID_PATTERN = re.compile(\n",
    "        r\"([0-9A-Za-z]{8}-[0-9A-Za-z]{4}-[0-9A-Za-z]{4}-[0-9A-Za-z]{4}-[0-9A-Za-z]{12})\"\n",
    "    )\n",
    "\n",
    "    outputs = UUID_PATTERN.split(output)\n",
    "    outputs = [\n",
    "        re.sub(r\"^\\W+\", \"\", el) for el in outputs\n",
    "    ]  # Clean trailing and leading non-word characters\n",
    "\n",
    "    for output in outputs:\n",
    "        maybe_block_id = UUID_PATTERN.search(output)\n",
    "        if maybe_block_id:\n",
    "            display(Image(Block.get(Steamship(), _id=maybe_block_id.group()).raw()))\n",
    "        else:\n",
    "            print(output, end=\"\\n\\n\")"
   ]
  },
  {
   "cell_type": "markdown",
   "id": "e247b2c4",
   "metadata": {},
   "source": [
    "## StableDiffusion "
   ]
  },
  {
   "cell_type": "code",
   "id": "315025e7",
   "metadata": {
    "ExecuteTime": {
     "end_time": "2025-03-19T07:25:50.484974Z",
     "start_time": "2025-03-19T07:25:50.458580Z"
    }
   },
   "source": [
    "tools = [SteamshipImageGenerationTool(model_name=\"stable-diffusion\")]"
   ],
   "outputs": [
    {
     "ename": "NameError",
     "evalue": "name 'SteamshipImageGenerationTool' is not defined",
     "output_type": "error",
     "traceback": [
      "\u001B[31m---------------------------------------------------------------------------\u001B[39m",
      "\u001B[31mNameError\u001B[39m                                 Traceback (most recent call last)",
      "\u001B[36mCell\u001B[39m\u001B[36m \u001B[39m\u001B[32mIn[4]\u001B[39m\u001B[32m, line 1\u001B[39m\n\u001B[32m----> \u001B[39m\u001B[32m1\u001B[39m tools = [\u001B[43mSteamshipImageGenerationTool\u001B[49m(model_name=\u001B[33m\"\u001B[39m\u001B[33mstable-diffusion\u001B[39m\u001B[33m\"\u001B[39m)]\n",
      "\u001B[31mNameError\u001B[39m: name 'SteamshipImageGenerationTool' is not defined"
     ]
    }
   ],
   "execution_count": 4
  },
  {
   "cell_type": "code",
   "id": "7930064a",
   "metadata": {
    "ExecuteTime": {
     "end_time": "2025-03-19T09:34:29.840738Z",
     "start_time": "2025-03-19T09:34:29.814870Z"
    }
   },
   "source": [
    "mrkl = initialize_agent(\n",
    "    tools, llm, agent=AgentType.ZERO_SHOT_REACT_DESCRIPTION, verbose=True\n",
    ")"
   ],
   "outputs": [
    {
     "ename": "NameError",
     "evalue": "name 'initialize_agent' is not defined",
     "output_type": "error",
     "traceback": [
      "\u001B[31m---------------------------------------------------------------------------\u001B[39m",
      "\u001B[31mNameError\u001B[39m                                 Traceback (most recent call last)",
      "\u001B[36mCell\u001B[39m\u001B[36m \u001B[39m\u001B[32mIn[16]\u001B[39m\u001B[32m, line 1\u001B[39m\n\u001B[32m----> \u001B[39m\u001B[32m1\u001B[39m mrkl = \u001B[43minitialize_agent\u001B[49m(\n\u001B[32m      2\u001B[39m     tools, llm, agent=AgentType.ZERO_SHOT_REACT_DESCRIPTION, verbose=\u001B[38;5;28;01mTrue\u001B[39;00m\n\u001B[32m      3\u001B[39m )\n",
      "\u001B[31mNameError\u001B[39m: name 'initialize_agent' is not defined"
     ]
    }
   ],
   "execution_count": 16
  },
  {
   "cell_type": "code",
   "execution_count": null,
   "id": "611a833d",
   "metadata": {},
   "outputs": [],
   "source": [
    "output = mrkl.run(\"How would you visualize a parot playing soccer?\")"
   ]
  }
 ],
 "metadata": {
  "kernelspec": {
   "display_name": "Python 3 (ipykernel)",
   "language": "python",
   "name": "python3"
  },
  "language_info": {
   "codemirror_mode": {
    "name": "ipython",
    "version": 3
   },
   "file_extension": ".py",
   "mimetype": "text/x-python",
   "name": "python",
   "nbconvert_exporter": "python",
   "pygments_lexer": "ipython3",
   "version": "3.10.12"
  }
 },
 "nbformat": 4,
 "nbformat_minor": 5
}
