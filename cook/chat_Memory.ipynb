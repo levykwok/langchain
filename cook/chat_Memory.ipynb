{
 "cells": [
  {
   "metadata": {},
   "cell_type": "markdown",
   "source": "Load local model",
   "id": "622c0ec788a57a36"
  },
  {
   "cell_type": "code",
   "id": "initial_id",
   "metadata": {
    "collapsed": true,
    "ExecuteTime": {
     "end_time": "2025-03-20T02:30:02.199521Z",
     "start_time": "2025-03-20T02:30:02.024192Z"
    }
   },
   "source": [
    "# Local\n",
    "from langchain_community.chat_models import ChatOllama\n",
    "from langchain_core.prompts import ChatPromptTemplate\n",
    "from langchain_core.output_parsers import StrOutputParser\n",
    "\n",
    "from libs.core.tests.unit_tests.output_parsers.test_openai_tools import message\n",
    "\n",
    "ds_chat = ChatOllama(model=\"deepseek-r1:7b\")"
   ],
   "outputs": [
    {
     "name": "stderr",
     "output_type": "stream",
     "text": [
      "C:\\Users\\guosh\\AppData\\Local\\Temp\\ipykernel_38700\\3086055942.py:8: LangChainDeprecationWarning: The class `ChatOllama` was deprecated in LangChain 0.3.1 and will be removed in 1.0.0. An updated version of the class exists in the :class:`~langchain-ollama package and should be used instead. To use it run `pip install -U :class:`~langchain-ollama` and import as `from :class:`~langchain_ollama import ChatOllama``.\n",
      "  ds_chat = ChatOllama(model=\"deepseek-r1:7b\")\n"
     ]
    }
   ],
   "execution_count": 2
  },
  {
   "metadata": {},
   "cell_type": "markdown",
   "source": "Maintain message list",
   "id": "8fa7941c88ae1661"
  },
  {
   "metadata": {
    "ExecuteTime": {
     "end_time": "2025-03-20T02:30:24.258331Z",
     "start_time": "2025-03-20T02:30:11.595576Z"
    }
   },
   "cell_type": "code",
   "source": [
    "from langchain_core.prompts import MessagesPlaceholder\n",
    "from langchain_core.messages import SystemMessage, HumanMessage, AIMessage\n",
    "prompt = ChatPromptTemplate.from_messages(\n",
    "    [\n",
    "        SystemMessage(\n",
    "            content=\"You are a helpful assistant. Answer all questions to the best of your ability. Answer in English.\",\n",
    "        ),\n",
    "        MessagesPlaceholder(variable_name=\"messages\"),\n",
    "    ]\n",
    ")\n",
    "chain = prompt | ds_chat\n",
    "mes_list=    {\n",
    "        \"messages\": [\n",
    "            HumanMessage(\n",
    "                content=\"Translate from English to French: I love programming.\"\n",
    "            ),\n",
    "            AIMessage(content=\"J'adore la programmation.\"),\n",
    "            HumanMessage(content=\"What did you just say?\"),\n",
    "        ],\n",
    "    }\n",
    "ai_msg = chain.invoke(mes_list)\n",
    "print(ai_msg.content)"
   ],
   "id": "f8f7366b2cec39",
   "outputs": [
    {
     "name": "stdout",
     "output_type": "stream",
     "text": [
      "<think>\n",
      "Okay, so the user asked me \"I love programming.\" and I translated it into French as \"J'adore la programmation.\" Now they're following up with \"What did you just say?\" Hmm, maybe they want a clearer or more natural translation.\n",
      "\n",
      "Let me think about why they might be asking this. They could be testing my language skills or perhaps interested in how to express similar sentences differently. Maybe they found the first response too literal and are looking for something smoother.\n",
      "\n",
      "I should acknowledge that I translated \"love\" as \"adore,\" which is common, but sometimes people use \"apprends\" for learning or \"passionne\" for passion. Wait, no, \"passione\" is more like passion in French. Maybe \"J'apprends la programmation.\" sounds a bit less formal and more conversational.\n",
      "\n",
      "So I'll explain that both translations are correct—using \"adore\" is standard, but offering an alternative might make it sound friendlier or more natural to them. That way, they can choose the one that fits better in their context.\n",
      "</think>\n",
      "\n",
      "Je comprends. J'ai dit que je aime le programming. En français, cela pourrait être :  \n",
      "\"J'apprends la programmation.\"\n"
     ]
    }
   ],
   "execution_count": 3
  }
 ],
 "metadata": {
  "kernelspec": {
   "display_name": "Python 3",
   "language": "python",
   "name": "python3"
  },
  "language_info": {
   "codemirror_mode": {
    "name": "ipython",
    "version": 2
   },
   "file_extension": ".py",
   "mimetype": "text/x-python",
   "name": "python",
   "nbconvert_exporter": "python",
   "pygments_lexer": "ipython2",
   "version": "2.7.6"
  }
 },
 "nbformat": 4,
 "nbformat_minor": 5
}
