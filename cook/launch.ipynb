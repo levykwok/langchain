{
 "cells": [
  {
   "metadata": {},
   "cell_type": "markdown",
   "source": "载入本地模型",
   "id": "9a8a392f998a6620"
  },
  {
   "metadata": {},
   "cell_type": "code",
   "outputs": [],
   "execution_count": null,
   "source": [
    "# Local\n",
    "from langchain_community.chat_models import ChatOllama\n",
    "\n",
    "llama2_chat = ChatOllama(model=\"deepseek:14b\")\n",
    "# Simply set the LLM we want to use\n",
    "llm = llama2_chat\n"
   ],
   "id": "b6ba4e6f0bae9680"
  }
 ],
 "metadata": {
  "kernelspec": {
   "display_name": "Python 3",
   "language": "python",
   "name": "python3"
  },
  "language_info": {
   "codemirror_mode": {
    "name": "ipython",
    "version": 2
   },
   "file_extension": ".py",
   "mimetype": "text/x-python",
   "name": "python",
   "nbconvert_exporter": "python",
   "pygments_lexer": "ipython2",
   "version": "2.7.6"
  }
 },
 "nbformat": 4,
 "nbformat_minor": 5
}
